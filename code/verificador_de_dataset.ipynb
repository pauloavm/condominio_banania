{
 "cells": [
  {
   "cell_type": "code",
   "execution_count": null,
   "id": "f137e0b1",
   "metadata": {},
   "outputs": [],
   "source": [
    "import pandas as pd\n"
   ]
  },
  {
   "cell_type": "code",
   "execution_count": null,
   "id": "c32d06ab",
   "metadata": {},
   "outputs": [],
   "source": [
    "dadosfin = pd.read_csv(\"dados_financeiros_condominios.csv\")\n",
    "\n",
    "dadosopr = pd.read_csv(\"dados_operacionais_condominios.csv\")"
   ]
  },
  {
   "cell_type": "code",
   "execution_count": null,
   "id": "3a40c916",
   "metadata": {},
   "outputs": [],
   "source": [
    "dadosfin.head()"
   ]
  },
  {
   "cell_type": "code",
   "execution_count": null,
   "id": "8772d894",
   "metadata": {},
   "outputs": [],
   "source": [
    "dadosopr.head()"
   ]
  },
  {
   "cell_type": "code",
   "execution_count": null,
   "id": "ed525291",
   "metadata": {},
   "outputs": [],
   "source": [
    "dadosfin.info()"
   ]
  },
  {
   "cell_type": "code",
   "execution_count": null,
   "id": "b492bd87",
   "metadata": {},
   "outputs": [],
   "source": [
    "dadosopr.info()"
   ]
  },
  {
   "cell_type": "code",
   "execution_count": null,
   "id": "b98e6877",
   "metadata": {},
   "outputs": [],
   "source": [
    "\n",
    "# Obter os IDs de condomínio únicos de cada DataFrame\n",
    "ids_financeiros = set(dadosfin['ID_Condominio'].unique())\n",
    "ids_operacionais = set(dadosopr['ID_Condominio'].unique())\n"
   ]
  },
  {
   "cell_type": "code",
   "execution_count": null,
   "id": "3c31d196",
   "metadata": {},
   "outputs": [],
   "source": [
    "\n",
    "# Comparar os dois conjuntos de IDs\n",
    "sao_iguais = ids_financeiros == ids_operacionais\n",
    "\n",
    "# Exibir os resultados\n",
    "print(f\"Número de IDs únicos no dataset financeiro: {len(ids_financeiros)}\")\n",
    "print(f\"Número de IDs únicos no dataset operacional: {len(ids_operacionais)}\")\n",
    "print(f\"\\nOs IDs de condomínio são os mesmos nos dois datasets? {sao_iguais}\")\n",
    "\n",
    "if not sao_iguais:\n",
    "    print(\"\\nOs seguintes IDs estão no dataset financeiro, mas não no operacional:\")\n",
    "    print(ids_financeiros - ids_operacionais)\n",
    "    \n",
    "    print(\"\\nOs seguintes IDs estão no dataset operacional, mas não no financeiro:\")\n",
    "    print(ids_operacionais - ids_financeiros)"
   ]
  }
 ],
 "metadata": {
  "kernelspec": {
   "display_name": "venv",
   "language": "python",
   "name": "python3"
  },
  "language_info": {
   "codemirror_mode": {
    "name": "ipython",
    "version": 3
   },
   "file_extension": ".py",
   "mimetype": "text/x-python",
   "name": "python",
   "nbconvert_exporter": "python",
   "pygments_lexer": "ipython3",
   "version": "3.13.7"
  }
 },
 "nbformat": 4,
 "nbformat_minor": 5
}
